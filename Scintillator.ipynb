{
 "cells": [
  {
   "cell_type": "markdown",
   "metadata": {},
   "source": [
    "# Neutron scintillator detector\n"
   ]
  },
  {
   "cell_type": "code",
   "execution_count": 1,
   "metadata": {},
   "outputs": [],
   "source": [
    "import openmc\n",
    "import openmc.deplete\n",
    "import numpy as np\n",
    "import matplotlib.pyplot as plt\n",
    "\n",
    "%matplotlib inline\n",
    "from IPython.display import Image\n",
    "\n",
    "import os\n"
   ]
  },
  {
   "cell_type": "code",
   "execution_count": 2,
   "metadata": {},
   "outputs": [],
   "source": [
    "\n",
    "###############################################################################\n",
    "#                              Define materials\n",
    "###############################################################################\n",
    "\n",
    "# Fuel gap material setting ----------\n",
    "helium = openmc.Material(material_id=2, name='Helium')\n",
    "helium.set_density('g/cm3', 0.001598)\n",
    "helium.add_element('He', 2.4044e-4)\n",
    "\n",
    "# Fuel cladding material setting ---------\n",
    "clad = openmc.Material(material_id=3, name='Zircaloy 4')\n",
    "clad.set_density('g/cm3', 6.55)\n",
    "clad.add_element('Sn', 0.014  , 'wo')\n",
    "clad.add_element('Fe', 0.00165, 'wo')\n",
    "clad.add_element('Cr', 0.001  , 'wo')\n",
    "clad.add_element('Zr', 0.98335, 'wo')\n",
    "\n",
    "# Moderator material setting ----------\n",
    "water = openmc.Material(material_id=4, name='Water')\n",
    "water.set_density('g/cm3', 0.740582)\n",
    "water.add_element('H', 5.0e-2)\n",
    "water.add_element('O', 2.4e-2)\n",
    "water.add_s_alpha_beta('c_H_in_H2O')\n",
    "\n",
    "\n",
    "# Reactor shielding material\n",
    "shielding = openmc.Material(material_id=8, name='Bottom plate region')\n",
    "shielding.set_density('g/cm3', 7.184)\n",
    "shielding.add_nuclide(\"H1\", 0.0011505, 'wo')\n",
    "shielding.add_nuclide(\"O16\", 0.0091296, 'wo')\n",
    "shielding.add_nuclide(\"B10\", 3.70915e-6, 'wo')\n",
    "shielding.add_nuclide(\"B11\", 1.68974e-5, 'wo')\n",
    "shielding.add_nuclide(\"Fe54\", 0.03855611055, 'wo')\n",
    "shielding.add_nuclide(\"Fe56\", 0.627585036425, 'wo')\n",
    "shielding.add_nuclide(\"Fe57\", 0.014750478, 'wo')\n",
    "shielding.add_nuclide(\"Fe58\", 0.002000875025, 'wo')\n",
    "shielding.add_nuclide(\"Ni58\", 0.059855207342, 'wo')\n",
    "shielding.add_nuclide(\"Mn55\", 0.0197940, 'wo')\n",
    "shielding.add_nuclide(\"Cr52\", 0.157390026871, 'wo')\n",
    "shielding.add_s_alpha_beta('c_H_in_H2O')\n",
    "\n",
    "# Reactor pressure vessel material\n",
    "steel = openmc.Material(material_id=9, name='Reactor pressure vessel steel')\n",
    "steel.set_density('g/cm3', 7.9)\n",
    "steel.add_nuclide(\"Fe54\", 0.05437098, 'wo')\n",
    "steel.add_nuclide(\"Fe56\", 0.88500663, 'wo')\n",
    "steel.add_nuclide(\"Fe57\", 0.0208008, 'wo')\n",
    "steel.add_nuclide(\"Fe58\", 0.00282159, 'wo')\n",
    "steel.add_nuclide(\"Ni58\", 0.0067198, 'wo')\n",
    "steel.add_nuclide(\"Ni60\", 0.0026776, 'wo')\n",
    "steel.add_nuclide(\"Mn55\", 0.01, 'wo')\n",
    "steel.add_nuclide(\"Cr52\", 0.002092475, 'wo')\n",
    "steel.add_nuclide(\"C0\", 0.0025, 'wo')\n",
    "steel.add_nuclide(\"Cu63\", 0.0013696, 'wo')\n",
    "\n",
    "# Reactor shielding material\n",
    "scintillator = openmc.Material(material_id=11, name='Gadolinium scint')\n",
    "scintillator.set_density('g/cm3', 7.184)\n",
    "scintillator.add_nuclide(\"Gd156\", 1, 'wo')\n",
    "\n",
    "\n",
    "#scintillator = openmc.Material(material_id = 10, name = \"Gadolinium scintillator\")"
   ]
  },
  {
   "cell_type": "code",
   "execution_count": 3,
   "metadata": {},
   "outputs": [],
   "source": [
    "\n",
    "materials_file = openmc.Materials([water,helium,steel,shielding,scintillator])\n",
    "\n",
    "materials_file.cross_sections = \"/Users/SindreKaald/nndc_hdf5/cross_sections.xml\"\n",
    "\n",
    "materials_file.export_to_xml()"
   ]
  },
  {
   "cell_type": "markdown",
   "metadata": {},
   "source": [
    "# Create geometry"
   ]
  },
  {
   "cell_type": "code",
   "execution_count": 4,
   "metadata": {},
   "outputs": [],
   "source": [
    "###############################################################################\n",
    "#                            Make the geometry\n",
    "###############################################################################\n",
    "\n",
    "# A square lattice reactor \n",
    "# Cylindrical tank \n",
    "# Reactor pitch = \n",
    "# Number of fuel elements = \n",
    "\n",
    "###############################################################################\n",
    "#                            Create the necessary surfaces\n",
    "\n",
    "\n",
    "# Surfaces for fuel elements\n",
    "fuel_surf_1 = openmc.ZCylinder(r=0.41, surface_id=1)  # Cylinder for fuel pellets\n",
    "fuel_surf_2 = openmc.ZCylinder(r=0.475, surface_id=2) # Fuel gap \n",
    "fuel_surf_3 = openmc.ZCylinder(r=0.56, surface_id=3)  # Cylinder for fuel cladding, inner radius\n",
    "fuel_surf_4 = openmc.ZCylinder(r=0.62, surface_id=4)  # Cylinder for fuel cladding, outer radius\n",
    "\n",
    "# Surfaces for reactor tank and shielding\n",
    "core_surf_5 = openmc.ZCylinder(r=15.0, surface_id=5) # Reactor tank inner surface\n",
    "core_surf_6 = openmc.ZCylinder(r=18.0, surface_id=6)# Reactor tank outer surface\n",
    "core_surf_7 = openmc.ZCylinder(r=20.0, surface_id=7, boundary_type='vacuum') \n",
    "#core_surf_8 = openmc.ZCylinder(r=149.0, surface_id=8, boundary_type='vacuum') # Cylinder for simulation universe (and boundary to zero importance region)\n",
    "\n",
    "#core_surf_31 = openmc.ZPlane(z0=-100.0, surface_id=31, boundary_type='vacuum') # Lower outside (and boundary to zero importance region)\n",
    "core_surf_32 = openmc.ZPlane(z0=-30.0, surface_id=32, boundary_type='vacuum') # Shielding lower \n",
    "core_surf_33 = openmc.ZPlane(z0=-25.0, surface_id=33) # Lower tank wall outside\n",
    "core_surf_34 = openmc.ZPlane(z0=-23.0, surface_id=34) # Lower tank wall inside\n",
    "core_surf_35 = openmc.ZPlane(z0=0.0, surface_id=35)   # Middle of tank\n",
    "core_surf_36 = openmc.ZPlane(z0=10.0, surface_id=36)  # Upper tank wall inside\n",
    "core_surf_37 = openmc.ZPlane(z0=25.0, surface_id=37)  # Upper tank wall outside\n",
    "core_surf_38 = openmc.ZPlane(z0=30.0, surface_id=38, boundary_type='vacuum')  # Shielding upper\n",
    "#core_surf_39 = openmc.ZPlane(z0=100.0, surface_id=39, boundary_type='vacuum') # Upper outside (and boundary to zero importance region)\n",
    "\n",
    "\n",
    "\n",
    "xl = openmc.XPlane(x0=-1.5)\n",
    "xr = openmc.XPlane(x0=1.5)\n",
    "yl = openmc.YPlane(y0=-1.5)\n",
    "yr = openmc.YPlane(y0=1.5)\n",
    "zl = openmc.ZPlane(z0=-2.5)\n",
    "zr = openmc.ZPlane(z0=-2.25)\n",
    "\n",
    "inside_box = +xl & -xr & +yl & -yr & +zl & -zr\n",
    "outside_box = ~inside_box\n",
    "\n"
   ]
  },
  {
   "cell_type": "markdown",
   "metadata": {},
   "source": [
    "# Volume settings"
   ]
  },
  {
   "cell_type": "code",
   "execution_count": 5,
   "metadata": {},
   "outputs": [],
   "source": [
    "###############################################################################\n",
    "#                     Create the volumes and fill with material\n",
    "\n",
    "# Define pin cells.\n",
    "fuel = openmc.Universe(name='Fuel pin, cladding',\n",
    "                            universe_id=1)\n",
    "fuel_cell_21 = openmc.Cell(cell_id=21, fill=helium, region= - fuel_surf_1)\n",
    "fuel_cell_22 = openmc.Cell(cell_id=22, fill=clad, region= + fuel_surf_1 & - fuel_surf_2)\n",
    "fuel_cell_23 = openmc.Cell(cell_id=23, fill=water, region= + fuel_surf_2)\n",
    "fuel.add_cells((fuel_cell_21, fuel_cell_22, fuel_cell_23))\n",
    "\n",
    "\n",
    "tube_cold = openmc.Universe(name='Instrumentation guide tube, '\n",
    "                            'cold water', universe_id=2)\n",
    "c24 = openmc.Cell(cell_id=24, fill=water, region=-fuel_surf_3)\n",
    "c25 = openmc.Cell(cell_id=25, fill=clad, region=+fuel_surf_3 & -fuel_surf_4)\n",
    "c26 = openmc.Cell(cell_id=26, fill=water, region=+fuel_surf_4)\n",
    "tube_cold.add_cells((c24, c25, c26))\n",
    "\n",
    "\n",
    "# Define assemblies.\n",
    "moderator_assembly = openmc.Universe(name='Water assembly', universe_id = 5)\n",
    "c50 = openmc.Cell(cell_id=50, fill=water, region= + core_surf_34 & -core_surf_36)\n",
    "moderator_assembly.add_cell(c50)\n",
    "\n",
    "# Set positions occupied by guide tubes\n",
    "tube_x = np.array([0])\n",
    "tube_y = np.array([0])\n",
    "\n",
    "\n",
    "#         Define the fuel assembly \n",
    "#           10 by 10 fuel pins surrounded by water moderator\n",
    "#          ---------------------\n",
    "#         | o o o o o o o o o o |\n",
    "#         | o o o o o o o o o o |\n",
    "#         | o o o o o x o o x x |\n",
    "#         | o o o x o o o o o o |\n",
    "#         | o o o o o o o o o o |\n",
    "#         | o o o o o o o o o o |\n",
    "#         | o o o o o o o o o o |\n",
    "#         | o o o o o o o o o o |\n",
    "#         | o o o o o o o o o o |\n",
    "#         | o o o o o o o o o o |\n",
    "#         | o o o o o o o o o o |\n",
    "#          ---------------------\n",
    "\n",
    "fuel_lattice_101 = openmc.RectLattice(name=\"Fuel lattice, lattice_id=101\")\n",
    "fuel_lattice_101.lower_left = (-5, -5)\n",
    "fuel_lattice_101.pitch = (1, 1)\n",
    "fuel_lattice_101.universes = np.tile(fuel, (10, 10))\n",
    "fuel_lattice_101.universes[tube_x, tube_y] = tube_cold\n",
    "\n",
    "# Construct filling for the reactor core lattice \n",
    "fuel_assembly = openmc.Universe(name='Fuel assembly ', universe_id=6)\n",
    "fuel_assembly_cell_60 = openmc.Cell(cell_id=60, fill = fuel_lattice_101 , region= + core_surf_34 & -core_surf_36)\n",
    "fuel_assembly.add_cell(fuel_assembly_cell_60)\n",
    "\n",
    "fa_hw = openmc.Universe(name='Water assembly', universe_id=8)\n",
    "c70 = openmc.Cell(cell_id=70, fill=water, region= + core_surf_34 & -core_surf_36)\n",
    "fa_hw.add_cell(c70)\n",
    "\n",
    "core_lattice = openmc.RectLattice(name='Core lattice', lattice_id=200)\n",
    "core_lattice.lower_left = (-80.0, -80.0)\n",
    "core_lattice.pitch = (10, 10)\n",
    "core_lattice.universes = [\n",
    "    [fa_hw]*16,\n",
    "    [fa_hw]*5 + [fuel_assembly]*6 + [fa_hw]*5,\n",
    "    [fa_hw]*4 + [fuel_assembly]*8 + [fa_hw]*4,\n",
    "    [fa_hw]*3 + [fuel_assembly]*10 + [fa_hw]*3,\n",
    "    [fa_hw]*2 + [fuel_assembly]*12 + [fa_hw]*2,\n",
    "    [fa_hw]*1 + [fuel_assembly]*14 + [fa_hw]*1,\n",
    "    [fa_hw]*1 + [fuel_assembly]*14 + [fa_hw]*1,\n",
    "    [fa_hw]*1 + [fuel_assembly]*14 + [fa_hw]*1,\n",
    "    [fa_hw]*1 + [fuel_assembly]*14 + [fa_hw]*1,\n",
    "    [fa_hw]*1 + [fuel_assembly]*14 + [fa_hw]*1,\n",
    "    [fa_hw]*1 + [fuel_assembly]*14 + [fa_hw]*1,\n",
    "    [fa_hw]*2 + [fuel_assembly]*12 + [fa_hw]*2,\n",
    "    [fa_hw]*3 + [fuel_assembly]*10 + [fa_hw]*3,\n",
    "    [fa_hw]*4 + [fuel_assembly]*8 + [fa_hw]*4,\n",
    "    [fa_hw]*5 + [fuel_assembly]*6 + [fa_hw]*5,\n",
    "    [fa_hw]*16]\n",
    " \n",
    "\n",
    "    \n",
    "    \n",
    "###############################################################################\n",
    "#                           Fill the simulation universe\n",
    "geometry = openmc.Geometry()\n",
    "\n",
    "# Assign cells to the universe\n",
    "simulation_universe = openmc.Universe(universe_id=0, name='root universe')\n",
    "c1 = openmc.Cell(cell_id=1, fill=helium,       region= - core_surf_5 & + core_surf_34 & -core_surf_36 & ~inside_box,name = \"Tank\")\n",
    "c8 =openmc.Cell(cell_id=80, fill=scintillator,       region= inside_box ,name = \"detector\") \n",
    "c2 = openmc.Cell(cell_id=2, fill=helium,              region= - core_surf_6 & + core_surf_5 & + core_surf_34 & -core_surf_36)\n",
    "c3 = openmc.Cell(cell_id=3, fill=helium,       region=-core_surf_7 & +core_surf_6 &  + core_surf_34 & -core_surf_36)\n",
    "c4 = openmc.Cell(cell_id=4, fill=helium,          region=-core_surf_7 & +core_surf_36 & -core_surf_37)\n",
    "c5 = openmc.Cell(cell_id=5, fill=helium,          region=-core_surf_7 & +core_surf_33 & -core_surf_34)\n",
    "c6 = openmc.Cell(cell_id=6, fill=helium,     region=-core_surf_7 & +core_surf_37 & -core_surf_38)\n",
    "c7 = openmc.Cell(cell_id=7, fill=helium,     region=-core_surf_7 & +core_surf_32 & -core_surf_33)\n",
    "\n",
    "simulation_universe.add_cells((c1,c2,c3,c4,c5,c6,c7,c8))\n",
    "geometry.root_universe = simulation_universe\n",
    "geometry.export_to_xml()"
   ]
  },
  {
   "cell_type": "code",
   "execution_count": null,
   "metadata": {},
   "outputs": [],
   "source": []
  },
  {
   "cell_type": "markdown",
   "metadata": {},
   "source": [
    "# Create tallies\n"
   ]
  },
  {
   "cell_type": "code",
   "execution_count": 6,
   "metadata": {},
   "outputs": [
    {
     "data": {
      "text/plain": [
       "\"\\n#######################################################\\n#                       yz-mesh tally\\n# Create mesh which will be used for tally\\nmesh_yz = openmc.RegularMesh(mesh_id = 3)\\nmesh_yz.dimension = [1, 200 ,200]\\nmesh_yz.lower_left = [-0.1,-100,-100]\\nmesh_yz.upper_right = [0.1,100,100]\\n\\n# Create mesh filter for tally\\nmesh_filter_yz = openmc.MeshFilter(mesh_yz)\\n\\n# Create mesh tally to score flux and fission rate\\ntally_yz = openmc.Tally(name='flux_yz',tally_id = 3)\\ntally_yz.filters = [mesh_filter_yz]\\ntally_yz.scores = ['flux', 'fission']\\ntallies_file.append(tally_yz)\\n\""
      ]
     },
     "execution_count": 6,
     "metadata": {},
     "output_type": "execute_result"
    }
   ],
   "source": [
    "###############################################################################\n",
    "#                       Make tallies for scoring values of interest\n",
    "###############################################################################\n",
    "\n",
    "# Instantiate an empty Tallies object\n",
    "tallies_file = openmc.Tallies()\n",
    "\n",
    "\n",
    "#######################################################\n",
    "#                       xy-mesh tally\n",
    "# Create mesh which will be used for tally\n",
    "mesh_xy = openmc.RegularMesh(mesh_id = 1)\n",
    "mesh_xy.dimension = [100, 100]\n",
    "mesh_xy.lower_left = [-75, -75]\n",
    "mesh_xy.upper_right = [75, 75]\n",
    "\n",
    "# Create mesh filter for tally\n",
    "mesh_filter_xy = openmc.MeshFilter(mesh_xy)\n",
    "particle_filter = openmc.ParticleFilter(['neutron','photon'], filter_id=2)\n",
    "\n",
    "# Create mesh tally to score flux and fission rate\n",
    "tally_xy = openmc.Tally(name='flux_xy',tally_id = 1)\n",
    "tally_xy.filters = [mesh_filter_xy,particle_filter]\n",
    "tally_xy.scores = ['flux', 'fission']\n",
    "tallies_file.append(tally_xy)\n",
    "\n",
    "\n",
    "\n",
    "#######################################################\n",
    "#                       xz-mesh tally\n",
    "# Create mesh which will be used for tally\n",
    "mesh_xz = openmc.RegularMesh(mesh_id = 2)\n",
    "mesh_xz.dimension = [100,1 ,100]\n",
    "mesh_xz.lower_left = [-100, -0.5,-100]\n",
    "mesh_xz.upper_right = [100, 0.5,100]\n",
    "\n",
    "# Create mesh filter for tally\n",
    "mesh_filter_xz = openmc.MeshFilter(mesh_xz)\n",
    "\n",
    "# Create mesh tally to score flux and fission rate\n",
    "tally_xz = openmc.Tally(name='flux_xz',tally_id = 2)\n",
    "tally_xz.filters = [mesh_filter_xz,particle_filter]\n",
    "tally_xz.scores = ['flux', 'fission']\n",
    "tallies_file.append(tally_xz)\n",
    "\n",
    "\n",
    "#######################################################\n",
    "#                       xz-mesh tally\n",
    "# Create mesh which will be used for tally\n",
    "mesh_xy = openmc.RegularMesh(mesh_id = 5)\n",
    "mesh_xy.dimension = [100,100 ,1]\n",
    "mesh_xy.lower_left = [-100, -100,-2.5,]\n",
    "mesh_xy.upper_right = [100, 100,-2.25]\n",
    "\n",
    "# Create mesh filter for tally\n",
    "mesh_filter_xy = openmc.MeshFilter(mesh_xy)\n",
    "\n",
    "# Create mesh tally to score flux and fission rate\n",
    "tally_xy = openmc.Tally(name='flux_xy_Gd_detector',tally_id = 3)\n",
    "tally_xy.filters = [mesh_filter_xy,particle_filter]\n",
    "tally_xy.scores = ['flux', 'fission']\n",
    "tallies_file.append(tally_xy)\n",
    "\n",
    "\n",
    "\n",
    "\n",
    "\n",
    "\"\"\"\n",
    "#######################################################\n",
    "#                       yz-mesh tally\n",
    "# Create mesh which will be used for tally\n",
    "mesh_yz = openmc.RegularMesh(mesh_id = 3)\n",
    "mesh_yz.dimension = [1, 200 ,200]\n",
    "mesh_yz.lower_left = [-0.1,-100,-100]\n",
    "mesh_yz.upper_right = [0.1,100,100]\n",
    "\n",
    "# Create mesh filter for tally\n",
    "mesh_filter_yz = openmc.MeshFilter(mesh_yz)\n",
    "\n",
    "# Create mesh tally to score flux and fission rate\n",
    "tally_yz = openmc.Tally(name='flux_yz',tally_id = 3)\n",
    "tally_yz.filters = [mesh_filter_yz]\n",
    "tally_yz.scores = ['flux', 'fission']\n",
    "tallies_file.append(tally_yz)\n",
    "\"\"\""
   ]
  },
  {
   "cell_type": "markdown",
   "metadata": {},
   "source": [
    "# Geometry plotting"
   ]
  },
  {
   "cell_type": "code",
   "execution_count": 7,
   "metadata": {},
   "outputs": [],
   "source": [
    "###############################################################################\n",
    "#                       Make some plots of the geometry\n",
    "###############################################################################\n",
    "plot1 = openmc.Plot()\n",
    "plot1.filename = 'materials-xy'\n",
    "plot1.origin = [0, 0, -1.5]\n",
    "plot1.basis = 'xy'\n",
    "plot1.width = [75.0, 75.0]\n",
    "plot1.pixels = [3000, 3000]\n",
    "plot1.color = \"material\"\n",
    "\n",
    "plot2 = openmc.Plot()\n",
    "plot2.filename = 'materials-xz'\n",
    "plot2.origin = [0, 0, 0]\n",
    "plot2.basis = 'xz'\n",
    "plot2.width = [75.0, 75.0]\n",
    "plot2.pixels = [1000, 1000]\n",
    "plot2.color = \"material\"\n",
    "\n",
    "plot3 = openmc.Plot()\n",
    "plot3.filename = 'materials-yz'\n",
    "plot3.origin = [0, 0, 0]\n",
    "plot3.basis = 'yz'\n",
    "plot3.width = [75.0, 75.0]\n",
    "plot3.pixels = [3000, 3000]\n",
    "plot3.color = \"material\"\n",
    "\n",
    "\n",
    "# Instantiate a Plots collection and export to \"plots.xml\"\n",
    "plot_file = openmc.Plots([plot1, plot2, plot3])\n",
    "plot_file.export_to_xml()\n",
    "\n",
    "#openmc.plot_geometry()\n",
    "\n",
    "#plot1.plot_inline()"
   ]
  },
  {
   "cell_type": "code",
   "execution_count": 8,
   "metadata": {},
   "outputs": [],
   "source": [
    "from ipywidgets import interact, interactive, fixed, interact_manual\n",
    "import ipywidgets as widgets"
   ]
  },
  {
   "cell_type": "markdown",
   "metadata": {},
   "source": [
    "# Plot inline in jupyter or QtConsole\n",
    "\n"
   ]
  },
  {
   "cell_type": "code",
   "execution_count": 9,
   "metadata": {},
   "outputs": [
    {
     "data": {
      "application/vnd.jupyter.widget-view+json": {
       "model_id": "03b988cc31154a35bec30e1da803bc92",
       "version_major": 2,
       "version_minor": 0
      },
      "text/plain": [
       "interactive(children=(Dropdown(description='plot', options=('plot1', 'plot2', 'plot3'), value='plot1'), Output…"
      ]
     },
     "metadata": {},
     "output_type": "display_data"
    }
   ],
   "source": [
    "@interact(plot=['plot1','plot2','plot3'])\n",
    "def plotOpenMC(plot):\n",
    "    openmc.plot_inline(eval(plot))"
   ]
  },
  {
   "cell_type": "markdown",
   "metadata": {},
   "source": [
    "# Simulation settings\n"
   ]
  },
  {
   "cell_type": "code",
   "execution_count": 10,
   "metadata": {},
   "outputs": [],
   "source": [
    "###############################################################################\n",
    "#                            Set simulation settings\n",
    "###############################################################################\n",
    "\n",
    "power = 1.2e6\n",
    "days = 24*60*60\n",
    "\n",
    "timesteps = [1.0*days, 1.0*days, 1.0*days, 1*days, 1*days,\n",
    "             1.0*days, 1.0*days, 1.0*days, 1*days, 1*days,\n",
    "             1.0*days, 1.0*days, 1.0*days, 1*days, 1*days,\n",
    "             1.0*days, 1.0*days, 1.0*days, 1*days, 1*days]\n",
    "\n",
    "settings = openmc.Settings()\n",
    "\n",
    "\n",
    "\n",
    "\n",
    "\n",
    "source = openmc.Source()\n",
    "source.space = openmc.stats.Point([0,0,5])\n",
    "source.angle = openmc.stats.Isotropic()\n",
    "source.energy = openmc.stats.Discrete([10.0e6], [1.0])\n",
    "settings.source = source\n",
    "\n",
    "#settings.source = openmc.Source(source)\n",
    "#settings.energy_mode = \"multi-group\"\n",
    "settings.export_to_xml()\n",
    "\n",
    "\n",
    "settings.batches = 100\n",
    "settings.particles = 15000\n",
    "\n",
    "settings.run_mode = \"fixed source\"\n",
    "\n",
    "\n",
    "###############################################################################\n",
    "#                            Turn on photon transport\n",
    "###############################################################################\n",
    "#settings.photon_transport = True\n",
    "\n",
    "###############################################################################\n",
    "#                            Make xml-files\n",
    "###############################################################################\n",
    "\n",
    "# Export to \"materials.xml\"\n",
    "geometry.export_to_xml()\n",
    "settings.photon_transport = True\n",
    "\n",
    "settings.export_to_xml()\n",
    "\n",
    "tallies_file.export_to_xml()\n",
    "\n",
    "\n"
   ]
  },
  {
   "cell_type": "code",
   "execution_count": null,
   "metadata": {},
   "outputs": [
    {
     "name": "stdout",
     "output_type": "stream",
     "text": [
      " WARNING: Ignoring number of threads specified on command line.\n"
     ]
    }
   ],
   "source": [
    "#os.remove(\"summary.h5\")\n",
    "#os.remove(\"statepoint.4.h5\")\n",
    "\n",
    "settings.export_to_xml()\n",
    "geometry.export_to_xml()\n",
    "tallies_file.export_to_xml()\n",
    "\n",
    "openmc.run(threads=4)"
   ]
  },
  {
   "cell_type": "code",
   "execution_count": 12,
   "metadata": {},
   "outputs": [
    {
     "data": {
      "application/vnd.jupyter.widget-view+json": {
       "model_id": "cfc10d88527a4b40ad5c4c53cf5dfc80",
       "version_major": 2,
       "version_minor": 0
      },
      "text/plain": [
       "interactive(children=(FloatSlider(value=0.5, description='freq', max=10.0, min=-10.0, step=0.25), Output()), _…"
      ]
     },
     "metadata": {},
     "output_type": "display_data"
    }
   ],
   "source": [
    "def plot_func(freq):\n",
    "    #x = np.linspace(0, 2*np.pi)\n",
    "    #y = np.sin(x * freq)\n",
    "    #plt.plot(x, y)\n",
    "    \n",
    "    plot1 = openmc.Plot()\n",
    "    plot1.filename = 'materials-xy'\n",
    "    plot1.origin = [0, 0, freq]\n",
    "    plot1.basis = 'xy'\n",
    "    plot1.width = [75.0, 75.0]\n",
    "    plot1.pixels = [3000, 3000]\n",
    "    plot1.color = \"material\"\n",
    "\n",
    "    plot2 = openmc.Plot()\n",
    "    plot2.filename = 'materials-xz'\n",
    "    plot2.origin = [0, 0, freq]\n",
    "    plot2.basis = 'xz'\n",
    "    plot2.width = [75.0, 75.0]\n",
    "    plot2.pixels = [1000, 1000]\n",
    "    plot2.color = \"material\"\n",
    "\n",
    "    plot3 = openmc.Plot()\n",
    "    plot3.filename = 'materials-yz'\n",
    "    plot3.origin = [0, 0, freq]\n",
    "    plot3.basis = 'yz'\n",
    "    plot3.width = [75.0, 75.0]\n",
    "    plot3.pixels = [3000, 3000]\n",
    "    plot3.color = \"material\"\n",
    "\n",
    "\n",
    "    # Instantiate a Plots collection and export to \"plots.xml\"\n",
    "    plot_file = openmc.Plots([plot1, plot2, plot3])\n",
    "    plot_file.export_to_xml();\n",
    "    \n",
    "    \n",
    "    openmc.plot_inline(plot1);\n",
    "\n",
    "interact(plot_func, freq = widgets.FloatSlider(value=0.5,\n",
    "                                               min=-10,\n",
    "                                               max=10.0,\n",
    "                                               step=0.25));"
   ]
  },
  {
   "cell_type": "markdown",
   "metadata": {},
   "source": [
    "# Geometry plots"
   ]
  },
  {
   "cell_type": "code",
   "execution_count": 276,
   "metadata": {},
   "outputs": [
    {
     "data": {
      "image/png": "[encoded data removed]",
      "text/plain": [
       "<IPython.core.display.Image object>"
      ]
     },
     "metadata": {},
     "output_type": "display_data"
    },
    {
     "data": {
      "image/png": "[encoded data removed]",
      "text/plain": [
       "<IPython.core.display.Image object>"
      ]
     },
     "metadata": {},
     "output_type": "display_data"
    },
    {
     "data": {
      "image/png": "[encoded data removed]",
      "text/plain": [
       "<IPython.core.display.Image object>"
      ]
     },
     "metadata": {},
     "output_type": "display_data"
    }
   ],
   "source": [
    "openmc.plot_inline(plot1)\n",
    "openmc.plot_inline(plot2)\n",
    "openmc.plot_inline(plot3)"
   ]
  },
  {
   "cell_type": "markdown",
   "metadata": {},
   "source": [
    "#\n",
    "#\n",
    "#\n",
    "#\n",
    "#\n",
    "#"
   ]
  },
  {
   "cell_type": "markdown",
   "metadata": {},
   "source": [
    "# Analysis"
   ]
  },
  {
   "cell_type": "code",
   "execution_count": 294,
   "metadata": {},
   "outputs": [],
   "source": [
    "# Load the statepoint file\n",
    "sp = openmc.StatePoint('statepoint.100.h5')\n",
    "\n",
    "tally = sp.get_tally(scores=['flux'],name = 'flux_xy')\n",
    "tally.sum\n",
    "(tally.mean, tally.std_dev)\n",
    "flux_xy = tally.get_slice(scores=['flux'],filters = [openmc.ParticleFilter], filter_bins = [('neutron','photon')])\n",
    "neutron_flux_xy = flux_xy.get_slice(filters = [openmc.ParticleFilter], filter_bins = [('neutron',)], squeeze=True)\n",
    "photon_flux_xy = flux_xy.get_slice(filters = [openmc.ParticleFilter], filter_bins = [('photon',)], squeeze=True)\n",
    "\n",
    "\n",
    "\n",
    "\n",
    "\n",
    "tally = sp.get_tally(scores=['flux'],name = 'flux_xy_Gd_detector')\n",
    "tally.sum\n",
    "(tally.mean, tally.std_dev)\n",
    "flux_xy_Gd = tally.get_slice(scores=['flux'],filters = [openmc.ParticleFilter], filter_bins = [('neutron','photon')])\n",
    "neutron_flux_xy_Gd = flux_xy_Gd.get_slice(filters = [openmc.ParticleFilter], filter_bins = [('neutron',)], squeeze=True)\n",
    "photon_flux_xy_Gd = flux_xy_Gd.get_slice(filters = [openmc.ParticleFilter], filter_bins = [('photon',)], squeeze=True)"
   ]
  },
  {
   "cell_type": "markdown",
   "metadata": {},
   "source": [
    "Get tally in xz direction"
   ]
  },
  {
   "cell_type": "code",
   "execution_count": 295,
   "metadata": {},
   "outputs": [],
   "source": [
    "tally = sp.get_tally(scores=['flux'],name = 'flux_xz')\n",
    "\n",
    "tally.sum\n",
    "#print(tally.mean.shape)\n",
    "(tally.mean, tally.std_dev)\n",
    "flux_xz = tally.get_slice(scores=['flux'],filters = [openmc.ParticleFilter], filter_bins = [('neutron','photon')])\n",
    "#fission = tally.get_slice(scores=['fission'])\n",
    "\n",
    "neutron_flux_xz = flux_xz.get_slice(filters = [openmc.ParticleFilter], filter_bins = [('neutron',)], squeeze=True)\n",
    "photon_flux_xz = flux_xz.get_slice(filters = [openmc.ParticleFilter], filter_bins = [('photon',)], squeeze=True)"
   ]
  },
  {
   "cell_type": "code",
   "execution_count": 296,
   "metadata": {},
   "outputs": [
    {
     "name": "stdout",
     "output_type": "stream",
     "text": [
      "Tally\n",
      "\tID             =\t139\n",
      "\tName           =\tflux_xy\n",
      "\tFilters        =\tMeshFilter, ParticleFilter\n",
      "\tNuclides       =\ttotal \n",
      "\tScores         =\t['flux']\n",
      "\tEstimator      =\ttracklength\n",
      "\n",
      "Tally\n",
      "\tID             =\t141\n",
      "\tName           =\tflux_xy\n",
      "\tFilters        =\tMeshFilter\n",
      "\tNuclides       =\ttotal \n",
      "\tScores         =\t['flux']\n",
      "\tEstimator      =\ttracklength\n",
      "\n",
      "Tally\n",
      "\tID             =\t140\n",
      "\tName           =\tflux_xy\n",
      "\tFilters        =\tMeshFilter\n",
      "\tNuclides       =\ttotal \n",
      "\tScores         =\t['flux']\n",
      "\tEstimator      =\ttracklength\n",
      "\n",
      "Tally\n",
      "\tID             =\t145\n",
      "\tName           =\tflux_xz\n",
      "\tFilters        =\tMeshFilter, ParticleFilter\n",
      "\tNuclides       =\ttotal \n",
      "\tScores         =\t['flux']\n",
      "\tEstimator      =\ttracklength\n",
      "\n",
      "Tally\n",
      "\tID             =\t147\n",
      "\tName           =\tflux_xz\n",
      "\tFilters        =\tMeshFilter\n",
      "\tNuclides       =\ttotal \n",
      "\tScores         =\t['flux']\n",
      "\tEstimator      =\ttracklength\n",
      "\n",
      "Tally\n",
      "\tID             =\t146\n",
      "\tName           =\tflux_xz\n",
      "\tFilters        =\tMeshFilter\n",
      "\tNuclides       =\ttotal \n",
      "\tScores         =\t['flux']\n",
      "\tEstimator      =\ttracklength\n",
      "\n"
     ]
    }
   ],
   "source": [
    "print(flux_xy)\n",
    "print(photon_flux_xy)\n",
    "print(neutron_flux_xy)\n",
    "\n",
    "print(flux_xz)\n",
    "print(photon_flux_xz)\n",
    "print(neutron_flux_xz)\n",
    "#neutron_flux.get_pandas_dataframe()"
   ]
  },
  {
   "cell_type": "code",
   "execution_count": 302,
   "metadata": {},
   "outputs": [
    {
     "data": {
      "text/plain": [
       "<Figure size 432x288 with 0 Axes>"
      ]
     },
     "metadata": {},
     "output_type": "display_data"
    },
    {
     "data": {
      "image/png": "[encoded data removed]",
      "text/plain": [
       "<Figure size 1080x1080 with 2 Axes>"
      ]
     },
     "metadata": {
      "needs_background": "light"
     },
     "output_type": "display_data"
    },
    {
     "data": {
      "text/plain": [
       "<Figure size 432x288 with 0 Axes>"
      ]
     },
     "metadata": {},
     "output_type": "display_data"
    },
    {
     "data": {
      "image/png": "[encoded data removed]",
      "text/plain": [
       "<Figure size 1080x1080 with 2 Axes>"
      ]
     },
     "metadata": {
      "needs_background": "light"
     },
     "output_type": "display_data"
    }
   ],
   "source": [
    "neutron_flux_xy.std_dev.shape = (100, 100)\n",
    "neutron_flux_xy.mean.shape = (100, 100)\n",
    "\n",
    "\n",
    "photon_flux_xy.std_dev.shape = (100, 100)\n",
    "photon_flux_xy.mean.shape = (100, 100)\n",
    "#fission.std_dev.shape = (200, 200)\n",
    "#fission.mean.shape = (200, 200)\n",
    "\n",
    "fig = plt.figure()\n",
    "plt.figure(figsize=(15,15));\n",
    "img = plt.imshow(neutron_flux_xy.mean,interpolation='spline16');\n",
    "plt.title('Neutron flux');\n",
    "plt.xlabel('x')\n",
    "plt.ylabel('y')\n",
    "plt.grid()\n",
    "plt.colorbar( orientation='vertical')\n",
    "\n",
    "\n",
    "\n",
    "#fig = plt.subplot(111)\n",
    "#plt.figure(figsize=(10,10))\n",
    "#fig.imshow(neutron_flux)\n",
    "#fig2 = plt.subplot(122)\n",
    "#plt.figure(figsize=(10,10))\n",
    "#fig2.imshow(neutron_flux)\n",
    "\n",
    "\n",
    "#fig = plt.subplot(111)\n",
    "fig = plt.figure()\n",
    "plt.figure(figsize=(15,15))\n",
    "img = plt.imshow(photon_flux_xy.mean,interpolation='spline16')\n",
    "plt.title('Photon flux');\n",
    "plt.xlabel('x')\n",
    "plt.ylabel('y')\n",
    "plt.grid\n",
    "plt.colorbar(orientation='vertical');\n",
    "#plt.colorbar(ticks=[0.1, 0.3, 0.5, 0.7], orientation='horizontal');\n",
    "#fig2 = plt.subplot(122)\n",
    "#fig2.imshow(photon_flux.mean)"
   ]
  },
  {
   "cell_type": "code",
   "execution_count": 298,
   "metadata": {},
   "outputs": [
    {
     "data": {
      "text/plain": [
       "<matplotlib.colorbar.Colorbar at 0x12c7829e8>"
      ]
     },
     "execution_count": 298,
     "metadata": {},
     "output_type": "execute_result"
    },
    {
     "data": {
      "text/plain": [
       "<Figure size 432x288 with 0 Axes>"
      ]
     },
     "metadata": {},
     "output_type": "display_data"
    },
    {
     "data": {
      "image/png": "[encoded data removed]",
      "text/plain": [
       "<Figure size 1080x1080 with 2 Axes>"
      ]
     },
     "metadata": {
      "needs_background": "light"
     },
     "output_type": "display_data"
    },
    {
     "data": {
      "text/plain": [
       "<Figure size 432x288 with 0 Axes>"
      ]
     },
     "metadata": {},
     "output_type": "display_data"
    },
    {
     "data": {
      "image/png": "[encoded data removed]",
      "text/plain": [
       "<Figure size 1080x1080 with 2 Axes>"
      ]
     },
     "metadata": {
      "needs_background": "light"
     },
     "output_type": "display_data"
    }
   ],
   "source": [
    "neutron_flux_xz.std_dev.shape = (100, 100)\n",
    "neutron_flux_xz.mean.shape = (100, 100)\n",
    "\n",
    "\n",
    "photon_flux_xz.std_dev.shape = (100, 100)\n",
    "photon_flux_xz.mean.shape = (100, 100)\n",
    "#fission.std_dev.shape = (200, 200)\n",
    "#fission.mean.shape = (200, 200)\n",
    "\n",
    "fig = plt.figure()\n",
    "plt.figure(figsize=(15,15));\n",
    "img = plt.imshow(neutron_flux_xz.mean,interpolation='spline16');\n",
    "plt.title('Neutron flux');\n",
    "plt.grid()\n",
    "plt.xlabel('x')\n",
    "plt.ylabel('z')\n",
    "plt.colorbar( orientation='vertical')\n",
    "\n",
    "\n",
    "fig = plt.figure()\n",
    "plt.figure(figsize=(15,15));\n",
    "img = plt.imshow(photon_flux_xz.mean,interpolation='spline16');\n",
    "plt.title('Photon flux');\n",
    "plt.grid()\n",
    "plt.xlabel('x')\n",
    "plt.ylabel('z')\n",
    "plt.colorbar( orientation='vertical')"
   ]
  },
  {
   "cell_type": "code",
   "execution_count": 300,
   "metadata": {},
   "outputs": [
    {
     "data": {
      "text/plain": [
       "<matplotlib.colorbar.Colorbar at 0x1304bf9b0>"
      ]
     },
     "execution_count": 300,
     "metadata": {},
     "output_type": "execute_result"
    },
    {
     "data": {
      "text/plain": [
       "<Figure size 432x288 with 0 Axes>"
      ]
     },
     "metadata": {},
     "output_type": "display_data"
    },
    {
     "data": {
      "image/png": "[encoded data removed]",
      "text/plain": [
       "<Figure size 1080x1080 with 2 Axes>"
      ]
     },
     "metadata": {
      "needs_background": "light"
     },
     "output_type": "display_data"
    },
    {
     "data": {
      "text/plain": [
       "<Figure size 432x288 with 0 Axes>"
      ]
     },
     "metadata": {},
     "output_type": "display_data"
    },
    {
     "data": {
      "image/png": "[encoded data removed]",
      "text/plain": [
       "<Figure size 1080x1080 with 2 Axes>"
      ]
     },
     "metadata": {
      "needs_background": "light"
     },
     "output_type": "display_data"
    }
   ],
   "source": [
    "neutron_flux_xy_Gd \n",
    "\n",
    "\n",
    "neutron_flux_xy_Gd.std_dev.shape = (100, 100)\n",
    "neutron_flux_xy_Gd.mean.shape = (100, 100)\n",
    "\n",
    "\n",
    "photon_flux_xy_Gd.std_dev.shape = (100, 100)\n",
    "photon_flux_xy_Gd.mean.shape = (100, 100)\n",
    "#fission.std_dev.shape = (200, 200)\n",
    "#fission.mean.shape = (200, 200)\n",
    "\n",
    "fig = plt.figure()\n",
    "plt.figure(figsize=(15,15));\n",
    "img = plt.imshow(neutron_flux_xy_Gd.mean,interpolation='none');\n",
    "plt.title('Neutron flux Gd');\n",
    "plt.xlabel('x')\n",
    "plt.ylabel('y')\n",
    "plt.grid()\n",
    "plt.colorbar( orientation='vertical')\n",
    "\n",
    "\n",
    "fig = plt.figure()\n",
    "plt.figure(figsize=(15,15));\n",
    "img = plt.imshow(photon_flux_xy_Gd.mean,interpolation='none');\n",
    "plt.title('Photon flux Gd');\n",
    "plt.xlabel('x')\n",
    "plt.ylabel('y')\n",
    "plt.grid()\n",
    "plt.colorbar( orientation='vertical')\n",
    "\n",
    "\n"
   ]
  },
  {
   "cell_type": "code",
   "execution_count": 286,
   "metadata": {},
   "outputs": [
    {
     "ename": "NameError",
     "evalue": "name 'fission' is not defined",
     "output_type": "error",
     "traceback": [
      "\u001b[0;31m---------------------------------------------------------------------------\u001b[0m",
      "\u001b[0;31mNameError\u001b[0m                                 Traceback (most recent call last)",
      "\u001b[0;32m<ipython-input-286-7c3ca47e4e57>\u001b[0m in \u001b[0;36m<module>\u001b[0;34m\u001b[0m\n\u001b[1;32m      1\u001b[0m \u001b[0;31m# Extract mean and reshape as 2D NumPy arrays\u001b[0m\u001b[0;34m\u001b[0m\u001b[0;34m\u001b[0m\u001b[0;34m\u001b[0m\u001b[0m\n\u001b[1;32m      2\u001b[0m \u001b[0;31m#mean = fission.reshape((17,17))\u001b[0m\u001b[0;34m\u001b[0m\u001b[0;34m\u001b[0m\u001b[0;34m\u001b[0m\u001b[0m\n\u001b[0;32m----> 3\u001b[0;31m \u001b[0mmean\u001b[0m \u001b[0;34m=\u001b[0m \u001b[0mfission\u001b[0m\u001b[0;34m.\u001b[0m\u001b[0mmean\u001b[0m\u001b[0;34m.\u001b[0m\u001b[0mshape\u001b[0m \u001b[0;34m=\u001b[0m \u001b[0;34m(\u001b[0m\u001b[0;36m200\u001b[0m\u001b[0;34m,\u001b[0m \u001b[0;36m200\u001b[0m\u001b[0;34m)\u001b[0m\u001b[0;34m\u001b[0m\u001b[0;34m\u001b[0m\u001b[0m\n\u001b[0m\u001b[1;32m      4\u001b[0m \u001b[0mplt\u001b[0m\u001b[0;34m.\u001b[0m\u001b[0mimshow\u001b[0m\u001b[0;34m(\u001b[0m\u001b[0mmean\u001b[0m\u001b[0;34m,\u001b[0m \u001b[0minterpolation\u001b[0m\u001b[0;34m=\u001b[0m\u001b[0;34m'nearest'\u001b[0m\u001b[0;34m)\u001b[0m\u001b[0;34m\u001b[0m\u001b[0;34m\u001b[0m\u001b[0m\n\u001b[1;32m      5\u001b[0m \u001b[0mplt\u001b[0m\u001b[0;34m.\u001b[0m\u001b[0mtitle\u001b[0m\u001b[0;34m(\u001b[0m\u001b[0;34m'fission rate'\u001b[0m\u001b[0;34m)\u001b[0m\u001b[0;34m\u001b[0m\u001b[0;34m\u001b[0m\u001b[0m\n",
      "\u001b[0;31mNameError\u001b[0m: name 'fission' is not defined"
     ]
    }
   ],
   "source": [
    "# Extract mean and reshape as 2D NumPy arrays\n",
    "#mean = fission.reshape((17,17))\n",
    "mean = fission.mean.shape = (200, 200)\n",
    "plt.imshow(mean, interpolation='nearest')\n",
    "plt.title('fission rate')\n",
    "plt.xlabel('x')\n",
    "plt.ylabel('y')\n",
    "plt.colorbar()\n"
   ]
  },
  {
   "cell_type": "code",
   "execution_count": null,
   "metadata": {},
   "outputs": [],
   "source": [
    "\n",
    "# Determine relative error\n",
    "relative_error = np.zeros_like(flux.std_dev)\n",
    "nonzero = flux.mean > 0\n",
    "relative_error[nonzero] = flux.std_dev[nonzero] / flux.mean[nonzero]\n",
    "\n",
    "# distribution of relative errors\n",
    "ret = plt.hist(relative_error[nonzero], bins=50)\n",
    "\n",
    "\n",
    "\n",
    "sp.source\n",
    "\n",
    "\n",
    "sp.source['E']\n",
    "\n",
    "\n",
    "# Create log-spaced energy bins from 1 keV to 10 MeV\n",
    "energy_bins = np.logspace(3,7)\n",
    "\n",
    "# Calculate pdf for source energies\n",
    "probability, bin_edges = np.histogram(sp.source['E'], energy_bins, density=True)\n",
    "\n",
    "# Make sure integrating the PDF gives us unity\n",
    "print(sum(probability*np.diff(energy_bins)))\n",
    "\n",
    "# Plot source energy PDF\n",
    "plt.semilogx(energy_bins[:-1], probability*np.diff(energy_bins), linestyle='steps')\n",
    "plt.xlabel('Energy (eV)')\n",
    "plt.ylabel('Probability/eV')\n",
    "\n",
    "\n",
    "plt.quiver(sp.source['r']['x'], sp.source['r']['y'],\n",
    "           sp.source['u']['x'], sp.source['u']['y'],\n",
    "           np.log(sp.source['E']), cmap='jet', scale=20.0)\n",
    "plt.colorbar()\n",
    "plt.xlim((-0.5,0.5))\n",
    "plt.ylim((-0.5,0.5))"
   ]
  },
  {
   "cell_type": "code",
   "execution_count": null,
   "metadata": {},
   "outputs": [],
   "source": [
    "\n",
    "fig, ax = plt.subplots()\n",
    "#plt.figure(figsize=(15,7))\n",
    "im = ax.imshow(flux.mean, interpolation='bilinear', cmap=plt.cm.hot,\n",
    "               origin='lower', extent=[0, 100, 0, 100],\n",
    "               vmax=abs(flux_xy.mean).max(), vmin=-abs(flux.mean).max())\n",
    "fig.colorbar(im)\n",
    "plt.title(\"Flux\")\n",
    "plt.show()\n",
    "\n",
    "fig, ax = plt.subplots()\n",
    "#plt.figure(figsize=(15,7))\n",
    "im = ax.imshow(fission.mean, interpolation='bilinear',cmap=plt.cm.hot,\n",
    "               origin='lower', extent=[0, 100, 0, 100],\n",
    "               vmax=abs(fission.mean).max(), vmin=-abs(fission.mean).max())\n",
    "fig.colorbar(im)\n",
    "plt.title(\"Fission\")\n",
    "plt.show()\n",
    "\n",
    "\n",
    "\n",
    "\n"
   ]
  },
  {
   "cell_type": "code",
   "execution_count": null,
   "metadata": {},
   "outputs": [],
   "source": [
    "\n",
    "# Determine relative error\n",
    "relative_error = np.zeros_like(flux.std_dev)\n",
    "nonzero = flux.mean > 0\n",
    "relative_error[nonzero] = flux.std_dev[nonzero] / flux.mean[nonzero]\n",
    "\n",
    "# distribution of relative errors\n",
    "ret = plt.hist(relative_error[nonzero], bins=50)\n",
    "\n",
    "\n"
   ]
  },
  {
   "cell_type": "code",
   "execution_count": null,
   "metadata": {},
   "outputs": [],
   "source": [
    "\n",
    "\n",
    "###############################################################\n",
    "#\n",
    "###############################################################\n",
    "plt.figure()\n",
    "plt.figure(figsize=(15,7))\n",
    "sp.source\n",
    "sp.source['E']\n",
    "\n",
    "# Create log-spaced energy bins from 1 keV to 10 MeV\n",
    "energy_bins = np.logspace(3,10)\n",
    "\n",
    "# Calculate pdf for source energies\n",
    "probability, bin_edges = np.histogram(sp.source['E'], energy_bins, density=True)\n",
    "\n",
    "# Make sure integrating the PDF gives us unity\n",
    "print(sum(probability*np.diff(energy_bins)))\n",
    "\n",
    "# Plot source energy PDF\n",
    "plt.loglog(energy_bins[:-1], probability*np.diff(energy_bins), linestyle='steps')\n",
    "plt.xlabel('Energy (eV)')\n",
    "plt.ylabel('Probability/eV')\n",
    "plt.ylim(10**(-10),1)\n",
    "\n",
    "\n",
    "plt.figure()\n",
    "plt.figure(figsize=(15,7))\n",
    "plt.quiver(sp.source['r']['x'], sp.source['r']['y'],\n",
    "           sp.source['u']['x'], sp.source['u']['y'],\n",
    "           np.log(sp.source['E']), cmap='jet', scale=20.0)\n",
    "plt.colorbar()\n",
    "#plt.xlim((-0.5,0.5))\n",
    "plt.ylim((-0.5,0.5))\n",
    "\n",
    "\n",
    "\n"
   ]
  },
  {
   "cell_type": "code",
   "execution_count": null,
   "metadata": {},
   "outputs": [],
   "source": []
  }
 ],
 "metadata": {
  "kernelspec": {
   "display_name": "Python 3",
   "language": "python",
   "name": "python3"
  },
  "language_info": {
   "codemirror_mode": {
    "name": "ipython",
    "version": 3
   },
   "file_extension": ".py",
   "mimetype": "text/x-python",
   "name": "python",
   "nbconvert_exporter": "python",
   "pygments_lexer": "ipython3",
   "version": "3.7.3"
  }
 },
 "nbformat": 4,
 "nbformat_minor": 4
}
